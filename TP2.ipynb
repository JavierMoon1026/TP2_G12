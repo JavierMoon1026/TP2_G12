{
  "nbformat": 4,
  "nbformat_minor": 0,
  "metadata": {
    "colab": {
      "provenance": [],
      "authorship_tag": "ABX9TyNXQxgPJTcg/YWcKPC/QBwf",
      "include_colab_link": true
    },
    "kernelspec": {
      "name": "python3",
      "display_name": "Python 3"
    },
    "language_info": {
      "name": "python"
    }
  },
  "cells": [
    {
      "cell_type": "markdown",
      "metadata": {
        "id": "view-in-github",
        "colab_type": "text"
      },
      "source": [
        "<a href=\"https://colab.research.google.com/github/JavierMoon1026/TP2_G12/blob/main/TP2.ipynb\" target=\"_parent\"><img src=\"https://colab.research.google.com/assets/colab-badge.svg\" alt=\"Open In Colab\"/></a>"
      ]
    },
    {
      "cell_type": "code",
      "execution_count": 2,
      "metadata": {
        "id": "MexWQCmhGivZ"
      },
      "outputs": [],
      "source": [
        "import numpy as np\n",
        "import matplotlib.pyplot as plt\n",
        "\n",
        "# Función provista\n",
        "def huffman_code(prob_dict):\n",
        "    \"\"\"genera un código Huffman a partir de las probabilidades dadas\n",
        "       en el diccionario \"prob_dict\"\n",
        "       Retorna un diccionario con el código de Huffman para cada símbolo\"\"\"\n",
        "    # Crear lista de nodos: cada nodo es (probabilidad, símbolo o subárbol)\n",
        "    nodes = [(p, {char: ''}) for char, p in prob_dict.items()]\n",
        "\n",
        "    while len(nodes) > 1:\n",
        "        # Ordenar nodos por probabilidad\n",
        "        nodes = sorted(nodes, key=lambda x: x[0])\n",
        "\n",
        "        # Tomar los dos de menor probabilidad\n",
        "        p1, c1 = nodes.pop(0)\n",
        "        p2, c2 = nodes.pop(0)\n",
        "\n",
        "        # Agregar prefijo 0 al primer subárbol y 1 al segundo\n",
        "        c1 = {k: '0' + v for k, v in c1.items()}\n",
        "        c2 = {k: '1' + v for k, v in c2.items()}\n",
        "\n",
        "        # Fusionar los dos subárboles\n",
        "        new_node = (p1 + p2, c1 | c2)\n",
        "        nodes.append(new_node)\n",
        "\n",
        "    # Retornar el diccionario con el código final (nodes: list[tuple[int, dict]])\n",
        "    return nodes[0][1]\n"
      ]
    },
    {
      "cell_type": "code",
      "source": [],
      "metadata": {
        "id": "2Pe-C3AvHiRP"
      },
      "execution_count": 2,
      "outputs": []
    },
    {
      "cell_type": "markdown",
      "source": [
        "Ejercicio 1"
      ],
      "metadata": {
        "id": "7-KuFMnKHja0"
      }
    }
  ]
}